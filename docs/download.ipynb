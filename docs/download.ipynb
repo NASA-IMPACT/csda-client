{
 "cells": [
  {
   "cell_type": "markdown",
   "id": "0",
   "metadata": {},
   "source": [
    "# Downloading CSDA data\n",
    "\n",
    "[NASA's](https://www.nasa.gov/) [Commercial Satellite Data Acquisition (CSDA)](https://www.earthdata.nasa.gov/about/csda) program acquires, catalogs, and provides commercial satellite data for the scientific community.\n",
    "The program's services include a [SpatioTemporal Asset Catalog](https://stacspec.org/) API server for searching and discovering CSDA assets.\n",
    "We'll use [pystac-client](https://github.com/stac-utils/pystac-client) to search the CSDA STAC API for items that we can use.\n",
    "The CSDA STAC API is public and open, meaning that we don't need any authorization or authentication to use it.\n",
    "\n",
    "Let's search for [Planet](https://www.planet.com/) items over Longmont, CO, USA in the last year."
   ]
  },
  {
   "cell_type": "code",
   "execution_count": null,
   "id": "1",
   "metadata": {},
   "outputs": [],
   "source": [
    "from pystac_client import Client\n",
    "\n",
    "LONGMONT = {\"type\": \"Point\", \"coordinates\": [-105.1019, 40.1672]}\n",
    "\n",
    "\n",
    "stac_client = Client.open(\"https://csdap.earthdata.nasa.gov/stac/\")\n",
    "item_search = stac_client.search(collections=[\"planet\"], intersects=LONGMONT)\n",
    "item_collection = item_search.item_collection()\n",
    "print(len(item_collection))"
   ]
  },
  {
   "cell_type": "markdown",
   "id": "2",
   "metadata": {},
   "source": [
    "Let's visualize the items, first as a `GeoDataFrame`."
   ]
  },
  {
   "cell_type": "code",
   "execution_count": null,
   "id": "3",
   "metadata": {},
   "outputs": [],
   "source": [
    "from geopandas import GeoDataFrame\n",
    "\n",
    "data_frame = GeoDataFrame.from_features(item_collection.to_dict(), crs=\"EPSG:4326\")\n",
    "data_frame"
   ]
  },
  {
   "cell_type": "markdown",
   "id": "4",
   "metadata": {},
   "source": [
    "Then, on a map (it's pretty noisy)."
   ]
  },
  {
   "cell_type": "code",
   "execution_count": null,
   "id": "5",
   "metadata": {},
   "outputs": [],
   "source": [
    "import contextily\n",
    "\n",
    "axes = data_frame.to_crs(epsg=3857).boundary.plot()\n",
    "contextily.add_basemap(axes)\n",
    "axes.set_axis_off()"
   ]
  },
  {
   "cell_type": "markdown",
   "id": "6",
   "metadata": {},
   "source": [
    "## Download assets\n",
    "\n",
    "While the STAC API is open, the [CSDA Orders API](https://csdap.earthdata.nasa.gov/api) requires authentication.\n",
    "You'll use your [Earthdata login](https://urs.earthdata.nasa.gov/) username and password to log in."
   ]
  },
  {
   "cell_type": "code",
   "execution_count": null,
   "id": "7",
   "metadata": {},
   "outputs": [],
   "source": [
    "import getpass\n",
    "\n",
    "username = input(\"Earthdata username: \")\n",
    "password = getpass.getpass(\"Earthdata password: \")"
   ]
  },
  {
   "cell_type": "markdown",
   "id": "8",
   "metadata": {},
   "source": [
    "Logging into CSDA creates an access token that encodes your download quotas, among other information."
   ]
  },
  {
   "cell_type": "code",
   "execution_count": null,
   "id": "9",
   "metadata": {},
   "outputs": [],
   "source": [
    "from csdap_bulk_download.client import CsdaClient\n",
    "\n",
    "client = CsdaClient.open(username=username, password=password)\n",
    "response = client.request(\"/api/v1/auth/verify\", method=\"GET\")\n",
    "response.raise_for_status()\n",
    "response.json()"
   ]
  },
  {
   "cell_type": "markdown",
   "id": "10",
   "metadata": {},
   "source": [
    "First, let's see how much quota you have for `planet`.\n",
    "The `/signup` endpoint, from our Data Auth API, provides information on how much quota you have been allocated."
   ]
  },
  {
   "cell_type": "code",
   "execution_count": null,
   "id": "11",
   "metadata": {},
   "outputs": [],
   "source": [
    "import json\n",
    "\n",
    "response = client.request(f\"/signup/api/users/{username}\", method=\"GET\")\n",
    "response.raise_for_status()\n",
    "planet = next(\n",
    "    vendor for vendor in response.json()[\"vendors\"] if vendor[\"slug\"] == \"planet\"\n",
    ")\n",
    "print(json.dumps(planet, indent=2))"
   ]
  },
  {
   "cell_type": "markdown",
   "id": "12",
   "metadata": {},
   "source": [
    "The `/api/v1/download/summary` endpoint provide information on data you have downloaded in the past."
   ]
  },
  {
   "cell_type": "code",
   "execution_count": null,
   "id": "13",
   "metadata": {},
   "outputs": [],
   "source": [
    "response = client.request(\n",
    "    f\"/api/v1/download/summary?username={username}&provider=planet\", method=\"GET\"\n",
    ")\n",
    "response.raise_for_status()\n",
    "print(json.dumps(response.json(), indent=2))"
   ]
  },
  {
   "cell_type": "markdown",
   "id": "14",
   "metadata": {},
   "source": [
    "As long as the sum of all of your `area` is less than your `quota`, you're good to download data!\n",
    "To create a new order, let's first identify the item ids that we want to order.\n",
    "For cost-saving, we regularly move \"older\" data (data that was provided to the program a long time ago) to \"cold\" storage, meaning that it can't be quickly downloaded.\n",
    "For this demonstration, we cheat a bit and use an item that we _know_ isn't in cold storage (for now)."
   ]
  },
  {
   "cell_type": "code",
   "execution_count": null,
   "id": "15",
   "metadata": {},
   "outputs": [],
   "source": [
    "item_search = stac_client.search(\n",
    "    collections=[\"planet\"],\n",
    "    ids=[\"PSScene-20250513_160742_95_253a\"],\n",
    ")\n",
    "item_collection = item_search.item_collection()\n",
    "assert len(item_collection) == 1\n",
    "data_frame = GeoDataFrame.from_features(item_collection.to_dict())\n",
    "data_frame"
   ]
  },
  {
   "cell_type": "markdown",
   "id": "6ce12a76",
   "metadata": {},
   "source": [
    "The item has several assets."
   ]
  },
  {
   "cell_type": "code",
   "execution_count": null,
   "id": "293fd4e3",
   "metadata": {},
   "outputs": [],
   "source": [
    "import humanize\n",
    "import tabulate\n",
    "\n",
    "item = item_collection[0]\n",
    "rows = []\n",
    "for key, asset in item.assets.items():\n",
    "    if file_size := asset.ext.file.size:\n",
    "        humanized_file_size = humanize.naturalsize(file_size)\n",
    "    else:\n",
    "        humanized_file_size = None\n",
    "    if roles := asset.roles:\n",
    "        humanized_roles = humanize.natural_list(roles)\n",
    "    else:\n",
    "        humanized_roles = roles\n",
    "    rows.append([key, humanized_roles, asset.media_type, humanized_file_size])\n",
    "tabulate.tabulate(\n",
    "    rows, headers=[\"Key\", \"Roles\", \"Type\", \"File size\", \"Roles\"], tablefmt=\"html\"\n",
    ")"
   ]
  },
  {
   "cell_type": "markdown",
   "id": "16",
   "metadata": {},
   "source": [
    "Let's download the ortho visual asset."
   ]
  },
  {
   "cell_type": "code",
   "execution_count": null,
   "id": "17",
   "metadata": {},
   "outputs": [],
   "source": [
    "from pathlib import Path\n",
    "from tempfile import TemporaryDirectory\n",
    "\n",
    "import rasterio\n",
    "import rasterio.plot\n",
    "import tqdm\n",
    "\n",
    "path = f\"/api/v2/download/{item.collection_id}/{item.id}/ortho_visual\"\n",
    "response = client.request(path=path, method=\"GET\", allow_redirects=True, stream=True)\n",
    "response.raise_for_status()\n",
    "with TemporaryDirectory() as temporary_directory:\n",
    "    local_path = Path(temporary_directory) / \"ortho_visual.tif\"\n",
    "    progress_bar = progress_bar = tqdm.tqdm(\n",
    "        total=item.assets[\"ortho_visual\"].ext.file.size,\n",
    "        unit=\"B\",\n",
    "        unit_divisor=1024,\n",
    "        miniters=1,\n",
    "        unit_scale=True,\n",
    "    )\n",
    "    with open(local_path, \"wb\") as f:\n",
    "        for chunk in response.iter_content(1024 * 8):\n",
    "            if chunk:\n",
    "                f.write(chunk)\n",
    "                progress_bar.update(len(chunk))\n",
    "            else:\n",
    "                progress_bar.close()\n",
    "\n",
    "    with rasterio.open(local_path) as dataset:\n",
    "        rasterio.plot.show(dataset)"
   ]
  }
 ],
 "metadata": {
  "kernelspec": {
   "display_name": ".venv",
   "language": "python",
   "name": "python3"
  },
  "language_info": {
   "codemirror_mode": {
    "name": "ipython",
    "version": 3
   },
   "file_extension": ".py",
   "mimetype": "text/x-python",
   "name": "python",
   "nbconvert_exporter": "python",
   "pygments_lexer": "ipython3",
   "version": "3.10.16"
  }
 },
 "nbformat": 4,
 "nbformat_minor": 5
}
