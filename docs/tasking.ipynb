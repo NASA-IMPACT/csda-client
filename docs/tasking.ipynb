{
 "cells": [
  {
   "cell_type": "markdown",
   "id": "ff36f51c",
   "metadata": {},
   "source": [
    "# Tasking\n",
    "\n",
    "[CSDA](https://www.earthdata.nasa.gov/about/csda) supports tasking commercial satellites.\n",
    "\"Tasking\" is the process of submitting a request to the commercial satellite vendor to collect data over a specific area within a specific time window (and potentially other constraints).\n",
    "Tasking in CSDA is a two step process:\n",
    "\n",
    "1. Tasking proposal: A user submits a proposal to task a satellite. The review board assesses the proposal and either approves or denies it.\n",
    "2. Tasking request: If their tasking proposal was approved, a user then can make one or more tasking requests against that proposal. The data are collected by the commercial satellite vendor, delivered to CSDA, and made available for download by the user.\n",
    "\n",
    "The tasking workflow is _usually_ done via the [CSDA frontend](https://csdap.earthdata.nasa.gov/), but this notebook demonstrates how you might do it programmatically.\n",
    "Note that tasking is under active development, so we'll be demonstrating its usage against our **staging** environment. \n",
    "\n",
    "## Setup\n",
    "\n",
    "For all of these operations, we'll need a `CsdaClient`.\n",
    "This client will log in to the [Earthdata](https://urs.earthdata.nasa.gov) using either basic (username and password) or [netrc](https://www.gnu.org/software/inetutils/manual/html_node/The-_002enetrc-file.html) authentication.\n",
    "In this example, we'll assume you've set up your `.netrc` file per [the documentation](https://nsidc.org/data/user-resources/help-center/creating-netrc-file-earthdata-login).\n"
   ]
  },
  {
   "cell_type": "code",
   "execution_count": 9,
   "id": "d8d34633",
   "metadata": {},
   "outputs": [],
   "source": [
    "import datetime\n",
    "from tempfile import NamedTemporaryFile\n",
    "\n",
    "import json_schema_for_humans.generate\n",
    "import tabulate\n",
    "from geojson_pydantic import Point\n",
    "from geojson_pydantic.types import Position2D\n",
    "from httpx import NetRCAuth\n",
    "from IPython.display import Markdown\n",
    "from json_schema_for_humans.generation_configuration import GenerationConfiguration\n",
    "from stapi_pydantic import OrderPayload\n",
    "\n",
    "from csda_client import STAGING_URL, CsdaClient\n",
    "from csda_client.models import (\n",
    "    CreateTaskingProductRequest,\n",
    "    CreateTaskingProposal,\n",
    "    OrderParameters,\n",
    ")"
   ]
  },
  {
   "cell_type": "code",
   "execution_count": 10,
   "id": "fad8f3ba",
   "metadata": {},
   "outputs": [
    {
     "data": {
      "text/plain": [
       "'Hello gadomski, you have a valid token!'"
      ]
     },
     "execution_count": 10,
     "metadata": {},
     "output_type": "execute_result"
    }
   ],
   "source": [
    "client = CsdaClient.open(NetRCAuth(), url=STAGING_URL)\n",
    "client.verify()"
   ]
  },
  {
   "cell_type": "markdown",
   "id": "996db48c",
   "metadata": {},
   "source": [
    "## Tasking proposal\n",
    "\n",
    "To create a new proposal, we first need to assemble a few things:\n",
    "\n",
    "- The `Grant` that we'll be associating with this proposal\n",
    "- One or more vendor's products\n",
    "\n",
    "First, let's find what grants we have available.\n",
    "If you're running this notebook yourself, make sure to change this value to be your own Earthdata username."
   ]
  },
  {
   "cell_type": "code",
   "execution_count": 11,
   "id": "3e59958e",
   "metadata": {},
   "outputs": [
    {
     "data": {
      "text/html": [
       "<table>\n",
       "<thead>\n",
       "<tr><th style=\"text-align: right;\">  Grant number</th><th>Start date  </th><th>End date  </th></tr>\n",
       "</thead>\n",
       "<tbody>\n",
       "<tr><td style=\"text-align: right;\">            42</td><td>2025-05-29  </td><td>2026-05-29</td></tr>\n",
       "</tbody>\n",
       "</table>"
      ],
      "text/plain": [
       "'<table>\\n<thead>\\n<tr><th style=\"text-align: right;\">  Grant number</th><th>Start date  </th><th>End date  </th></tr>\\n</thead>\\n<tbody>\\n<tr><td style=\"text-align: right;\">            42</td><td>2025-05-29  </td><td>2026-05-29</td></tr>\\n</tbody>\\n</table>'"
      ]
     },
     "execution_count": 11,
     "metadata": {},
     "output_type": "execute_result"
    }
   ],
   "source": [
    "rows = []\n",
    "grants = {}\n",
    "for grant in client.profile(\"gadomski\").grants:\n",
    "    grants[grant.grant_number] = grant\n",
    "    rows.append([grant.grant_number, grant.start_date, grant.end_date])\n",
    "tabulate.tabulate(\n",
    "    rows, headers=[\"Grant number\", \"Start date\", \"End date\"], tablefmt=\"html\"\n",
    ")"
   ]
  },
  {
   "cell_type": "markdown",
   "id": "7eec3f16",
   "metadata": {},
   "source": [
    "\n",
    "Now let's list the vendors and find all of them that have tasking enabled."
   ]
  },
  {
   "cell_type": "code",
   "execution_count": 12,
   "id": "194214a3",
   "metadata": {},
   "outputs": [
    {
     "data": {
      "text/html": [
       "<table>\n",
       "<thead>\n",
       "<tr><th style=\"text-align: right;\">  Id</th><th>Slug        </th><th>Full name    </th></tr>\n",
       "</thead>\n",
       "<tbody>\n",
       "<tr><td style=\"text-align: right;\">  12</td><td>ghgsat      </td><td>GHGSat       </td></tr>\n",
       "<tr><td style=\"text-align: right;\">  17</td><td>capellaspace</td><td>Capella Space</td></tr>\n",
       "<tr><td style=\"text-align: right;\">  18</td><td>iceye       </td><td>ICEYE US     </td></tr>\n",
       "<tr><td style=\"text-align: right;\">  34</td><td>umbra       </td><td>Umbra Space  </td></tr>\n",
       "<tr><td style=\"text-align: right;\">  47</td><td>airbus      </td><td>Airbus U.S.  </td></tr>\n",
       "</tbody>\n",
       "</table>"
      ],
      "text/plain": [
       "'<table>\\n<thead>\\n<tr><th style=\"text-align: right;\">  Id</th><th>Slug        </th><th>Full name    </th></tr>\\n</thead>\\n<tbody>\\n<tr><td style=\"text-align: right;\">  12</td><td>ghgsat      </td><td>GHGSat       </td></tr>\\n<tr><td style=\"text-align: right;\">  17</td><td>capellaspace</td><td>Capella Space</td></tr>\\n<tr><td style=\"text-align: right;\">  18</td><td>iceye       </td><td>ICEYE US     </td></tr>\\n<tr><td style=\"text-align: right;\">  34</td><td>umbra       </td><td>Umbra Space  </td></tr>\\n<tr><td style=\"text-align: right;\">  47</td><td>airbus      </td><td>Airbus U.S.  </td></tr>\\n</tbody>\\n</table>'"
      ]
     },
     "execution_count": 12,
     "metadata": {},
     "output_type": "execute_result"
    }
   ],
   "source": [
    "rows = []\n",
    "vendors = {}\n",
    "for vendor in client.vendors():\n",
    "    if vendor.has_tasking:\n",
    "        vendors[vendor.slug] = vendor\n",
    "        rows.append([vendor.id, vendor.slug, vendor.full_name])\n",
    "tabulate.tabulate(rows, headers=[\"Id\", \"Slug\", \"Full name\"], tablefmt=\"html\")"
   ]
  },
  {
   "cell_type": "markdown",
   "id": "56cbfa94",
   "metadata": {},
   "source": [
    "Let's create a proposal to task [Umbra Space](https://umbra.space/).\n",
    "We'll need to see what products are available."
   ]
  },
  {
   "cell_type": "code",
   "execution_count": 13,
   "id": "31af052f",
   "metadata": {},
   "outputs": [
    {
     "data": {
      "text/html": [
       "<table>\n",
       "<thead>\n",
       "<tr><th style=\"text-align: right;\">  Id</th><th>Slug    </th><th>Name                            </th><th>Long description                                                                                                           </th></tr>\n",
       "</thead>\n",
       "<tbody>\n",
       "<tr><td style=\"text-align: right;\">  72</td><td>CPHD    </td><td>Compensated Phase History Data  </td><td>CPHD product preserves raw SAR echo data before image formation, useful for advanced processing tasks                      </td></tr>\n",
       "<tr><td style=\"text-align: right;\">  76</td><td>CSI-SIDD</td><td>Color Single Image SIDD         </td><td>It provides clarity and context to spot objects like buildings in a forest or cars moving on a field.                      </td></tr>\n",
       "<tr><td style=\"text-align: right;\">  77</td><td>CSI     </td><td>Color Single Image TIFF         </td><td>A specialized Color Single Image TIFF product using a three-color (RGB) sub-aperture processing approach to enhance detail.</td></tr>\n",
       "<tr><td style=\"text-align: right;\">  74</td><td>SIDD    </td><td>Sensor Independent Detected Data</td><td>SIDD offers ground-plane imagery optimized for viewing, omitting phase data but preserving detailed visual information.    </td></tr>\n",
       "<tr><td style=\"text-align: right;\">  75</td><td>GEC     </td><td>Geocoded Ellipsoid Corrected    </td><td>This is a radiometrically corrected SAR image with map projection, allowing for easy viewing in common image applications. </td></tr>\n",
       "<tr><td style=\"text-align: right;\">  73</td><td>SICD    </td><td>Sensor Independent Complex Data </td><td>SICD is a slant-plane image retaining SAR  phase and magnitude data                                                        </td></tr>\n",
       "</tbody>\n",
       "</table>"
      ],
      "text/plain": [
       "'<table>\\n<thead>\\n<tr><th style=\"text-align: right;\">  Id</th><th>Slug    </th><th>Name                            </th><th>Long description                                                                                                           </th></tr>\\n</thead>\\n<tbody>\\n<tr><td style=\"text-align: right;\">  72</td><td>CPHD    </td><td>Compensated Phase History Data  </td><td>CPHD product preserves raw SAR echo data before image formation, useful for advanced processing tasks                      </td></tr>\\n<tr><td style=\"text-align: right;\">  76</td><td>CSI-SIDD</td><td>Color Single Image SIDD         </td><td>It provides clarity and context to spot objects like buildings in a forest or cars moving on a field.                      </td></tr>\\n<tr><td style=\"text-align: right;\">  77</td><td>CSI     </td><td>Color Single Image TIFF         </td><td>A specialized Color Single Image TIFF product using a three-color (RGB) sub-aperture processing approach to enhance detail.</td></tr>\\n<tr><td style=\"text-align: right;\">  74</td><td>SIDD    </td><td>Sensor Independent Detected Data</td><td>SIDD offers ground-plane imagery optimized for viewing, omitting phase data but preserving detailed visual information.    </td></tr>\\n<tr><td style=\"text-align: right;\">  75</td><td>GEC     </td><td>Geocoded Ellipsoid Corrected    </td><td>This is a radiometrically corrected SAR image with map projection, allowing for easy viewing in common image applications. </td></tr>\\n<tr><td style=\"text-align: right;\">  73</td><td>SICD    </td><td>Sensor Independent Complex Data </td><td>SICD is a slant-plane image retaining SAR  phase and magnitude data                                                        </td></tr>\\n</tbody>\\n</table>'"
      ]
     },
     "execution_count": 13,
     "metadata": {},
     "output_type": "execute_result"
    }
   ],
   "source": [
    "rows = []\n",
    "products = {}\n",
    "for product in client.products(vendor_id=vendors[\"umbra\"].id):\n",
    "    products[product.slug] = product\n",
    "    rows.append([product.id, product.slug, product.name, product.long_desc])\n",
    "tabulate.tabulate(\n",
    "    rows, headers=[\"Id\", \"Slug\", \"Name\", \"Long description\"], tablefmt=\"html\"\n",
    ")"
   ]
  },
  {
   "cell_type": "markdown",
   "id": "b60bc1bb",
   "metadata": {},
   "source": [
    "Let's ask for a \"Color Single Image TIFF\".\n",
    "Here's how to make a tasking proposal."
   ]
  },
  {
   "cell_type": "code",
   "execution_count": 14,
   "id": "32270347",
   "metadata": {},
   "outputs": [
    {
     "data": {
      "text/plain": [
       "TaskingProposal(id=795, products=[TaskingProductRequest(product=Product(id=77, slug='CSI', name='Color Single Image TIFF', long_desc='A specialized Color Single Image TIFF product using a three-color (RGB) sub-aperture processing approach to enhance detail.'), n_proposed_granules=42, n_allocated_granules=None)], is_draft=True, grant=Grant(id=534, grant_number='42', start_date=datetime.date(2025, 5, 29), end_date=datetime.date(2026, 5, 29)), user='gadomski', name='An excellent tasking proposal', research_description='Very important things', tasking_justification=\"It just won't be collected unless I ask for it\", final_decision_type='', decision_details=None)"
      ]
     },
     "execution_count": 14,
     "metadata": {},
     "output_type": "execute_result"
    }
   ],
   "source": [
    "create_tasking_proposal = CreateTaskingProposal(\n",
    "    name=\"An excellent tasking proposal\",\n",
    "    grant=grants[\"42\"].id,\n",
    "    products=[\n",
    "        CreateTaskingProductRequest(product=products[\"CSI\"].id, n_proposed_granules=42)\n",
    "    ],\n",
    "    research_description=\"Very important things\",\n",
    "    tasking_justification=\"It just won't be collected unless I ask for it\",\n",
    ")\n",
    "tasking_proposal = client.create_tasking_proposal(create_tasking_proposal, submit=False)  # We'll just submit this as a draft, since usually you'll be creating a proposal via the frontend\n",
    "tasking_proposal"
   ]
  },
  {
   "cell_type": "markdown",
   "id": "59949b18",
   "metadata": {},
   "source": [
    "## Tasking requests\n",
    "\n",
    "Once a tasking proposal is approved by the board, research users can submit tasking requests against that a proposal.\n",
    "Each vendor has its own parameters that can be provided when creating a request.\n",
    "Let's see what parameters are available for Umbra Space."
   ]
  },
  {
   "cell_type": "code",
   "execution_count": 15,
   "id": "d5f0f3a3",
   "metadata": {},
   "outputs": [
    {
     "name": "stdout",
     "output_type": "stream",
     "text": [
      "== Generating tmpc_fw1_z5 ==\n",
      "== Generated tmpc_fw1_z5 in 0:00:00.019612 ==\n"
     ]
    },
    {
     "data": {
      "text/markdown": [
       "# OrderParameters\n",
       "\n",
       "**Title:** OrderParameters\n",
       "\n",
       "|                           |             |\n",
       "| ------------------------- | ----------- |\n",
       "| **Type**                  | `object`    |\n",
       "| **Required**              | No          |\n",
       "| **Additional properties** | Not allowed |\n",
       "\n",
       "| Property                                   | Pattern | Type              | Deprecated | Definition                 | Title/Description |\n",
       "| ------------------------------------------ | ------- | ----------------- | ---------- | -------------------------- | ----------------- |\n",
       "| + [proposal_id](#proposal_id )             | No      | integer           | No         | -                          | Proposal Id       |\n",
       "| + [product_ids](#product_ids )             | No      | array of integer  | No         | -                          | Product Ids       |\n",
       "| + [task_name](#task_name )                 | No      | string            | No         | -                          | Task Name         |\n",
       "| - [imaging_mode](#imaging_mode )           | No      | enum (of string)  | No         | In #/$defs/ImagingMode     | Imaging Mode      |\n",
       "| - [grazing_angle_min](#grazing_angle_min ) | No      | integer           | No         | -                          | Grazing Angle Min |\n",
       "| - [grazing_angle_max](#grazing_angle_max ) | No      | integer           | No         | -                          | Grazing Angle Max |\n",
       "| - [multilook_factor](#multilook_factor )   | No      | enum (of integer) | No         | In #/$defs/MultilookFactor | Multilook Factor  |\n",
       "\n",
       "## <a name=\"proposal_id\"></a>1. Property `OrderParameters > proposal_id`\n",
       "\n",
       "**Title:** Proposal Id\n",
       "\n",
       "|              |           |\n",
       "| ------------ | --------- |\n",
       "| **Type**     | `integer` |\n",
       "| **Required** | Yes       |\n",
       "\n",
       "## <a name=\"product_ids\"></a>2. Property `OrderParameters > product_ids`\n",
       "\n",
       "**Title:** Product Ids\n",
       "\n",
       "|              |                    |\n",
       "| ------------ | ------------------ |\n",
       "| **Type**     | `array of integer` |\n",
       "| **Required** | Yes                |\n",
       "\n",
       "|                      | Array restrictions |\n",
       "| -------------------- | ------------------ |\n",
       "| **Min items**        | 1                  |\n",
       "| **Max items**        | N/A                |\n",
       "| **Items unicity**    | False              |\n",
       "| **Additional items** | False              |\n",
       "| **Tuple validation** | See below          |\n",
       "\n",
       "| Each item of this array must be         | Description |\n",
       "| --------------------------------------- | ----------- |\n",
       "| [product_ids items](#product_ids_items) | -           |\n",
       "\n",
       "### <a name=\"product_ids_items\"></a>2.1. OrderParameters > product_ids > product_ids items\n",
       "\n",
       "|              |           |\n",
       "| ------------ | --------- |\n",
       "| **Type**     | `integer` |\n",
       "| **Required** | No        |\n",
       "\n",
       "## <a name=\"task_name\"></a>3. Property `OrderParameters > task_name`\n",
       "\n",
       "**Title:** Task Name\n",
       "\n",
       "|              |          |\n",
       "| ------------ | -------- |\n",
       "| **Type**     | `string` |\n",
       "| **Required** | Yes      |\n",
       "\n",
       "## <a name=\"imaging_mode\"></a>4. Property `OrderParameters > imaging_mode`\n",
       "\n",
       "**Title:** Imaging Mode\n",
       "\n",
       "|                |                     |\n",
       "| -------------- | ------------------- |\n",
       "| **Type**       | `enum (of string)`  |\n",
       "| **Required**   | No                  |\n",
       "| **Default**    | `\"SPOTLIGHT\"`       |\n",
       "| **Defined in** | #/$defs/ImagingMode |\n",
       "\n",
       "Must be one of:\n",
       "* \"SPOTLIGHT\"\n",
       "* \"SCAN\"\n",
       "\n",
       "## <a name=\"grazing_angle_min\"></a>5. Property `OrderParameters > grazing_angle_min`\n",
       "\n",
       "**Title:** Grazing Angle Min\n",
       "\n",
       "|              |           |\n",
       "| ------------ | --------- |\n",
       "| **Type**     | `integer` |\n",
       "| **Required** | No        |\n",
       "| **Default**  | `45`      |\n",
       "\n",
       "## <a name=\"grazing_angle_max\"></a>6. Property `OrderParameters > grazing_angle_max`\n",
       "\n",
       "**Title:** Grazing Angle Max\n",
       "\n",
       "|              |           |\n",
       "| ------------ | --------- |\n",
       "| **Type**     | `integer` |\n",
       "| **Required** | No        |\n",
       "| **Default**  | `65`      |\n",
       "\n",
       "## <a name=\"multilook_factor\"></a>7. Property `OrderParameters > multilook_factor`\n",
       "\n",
       "**Title:** Multilook Factor\n",
       "\n",
       "|                |                         |\n",
       "| -------------- | ----------------------- |\n",
       "| **Type**       | `enum (of integer)`     |\n",
       "| **Required**   | No                      |\n",
       "| **Default**    | `1`                     |\n",
       "| **Defined in** | #/$defs/MultilookFactor |\n",
       "\n",
       "Must be one of:\n",
       "* 1\n",
       "* 2\n",
       "* 4\n",
       "* 8\n",
       "\n",
       "----------------------------------------------------------------------------------------------------------------------------\n",
       "Generated using [json-schema-for-humans](https://github.com/coveooss/json-schema-for-humans) on 2025-08-28 at 11:09:49 -0600\n"
      ],
      "text/plain": [
       "<IPython.core.display.Markdown object>"
      ]
     },
     "metadata": {},
     "output_type": "display_data"
    }
   ],
   "source": [
    "config = GenerationConfiguration(template_name=\"md\" ,show_toc=False)\n",
    "\n",
    "order_parameters = client.get_tasking_order_parameters(\"umbra-sar\")  # There's currently no way to derive this slug, you just have to know it: https://github.com/NASA-IMPACT/csda-project/issues/1682\n",
    "with NamedTemporaryFile(\"w\", delete_on_close=False) as f:\n",
    "    f.write(order_parameters.model_dump_json())\n",
    "    f.close()\n",
    "    display(Markdown(json_schema_for_humans.generate.generate_from_schema(f.name, config=config)))"
   ]
  },
  {
   "cell_type": "markdown",
   "id": "2c3e05fd",
   "metadata": {},
   "source": [
    "The required fields are:\n",
    "\n",
    "- `proposal_id`, which we have\n",
    "- `product_ids`, which we have from via our proposal\n",
    "- `task_name`, which we can make up\n",
    "\n",
    "Easy enough!\n",
    "Let's create a tasking request, which is also a [STAPI order](https://github.com/stapi-spec/stapi-spec/tree/main/order#order-object).\n",
    "We'll create the request for a time period starting tomorrow and ending in a week, over [Longmont, Colorado, USA](https://en.wikipedia.org/wiki/Longmont,_Colorado)."
   ]
  },
  {
   "cell_type": "code",
   "execution_count": 16,
   "id": "801825c6",
   "metadata": {},
   "outputs": [
    {
     "data": {
      "text/plain": [
       "Order(bbox=None, id='aefb49ae-0277-405f-acb3-7be023ba92aa', type='Feature', stapi_type='Order', stapi_version='0.1.0', geometry=Point(bbox=None, type='Point', coordinates=Position2D(longitude=-105.1019, latitude=40.1672)), properties=OrderProperties(product_id='umbra-sar', created=datetime.datetime(2025, 8, 28, 17, 9, 49, 136199, tzinfo=TzInfo(UTC)), status=OrderStatus(timestamp=datetime.datetime(2025, 8, 28, 17, 9, 49, 136199, tzinfo=TzInfo(UTC)), status_code=<OrderStatusCode.received: 'received'>, reason_code=None, reason_text=None, links=[]), search_parameters=OrderSearchParameters(datetime=(datetime.datetime(2025, 8, 29, 17, 9, 49, 36402, tzinfo=datetime.timezone.utc), datetime.datetime(2025, 9, 4, 17, 9, 49, 36406, tzinfo=datetime.timezone.utc)), geometry=Point(bbox=None, type='Point', coordinates=Position2D(longitude=-105.1019, latitude=40.1672)), filter=None), opportunity_properties={}, order_parameters={'task_name': 'My tasking proposal', 'imaging_mode': 'SPOTLIGHT', 'grazing_angle_min': 45, 'grazing_angle_max': 65, 'multilook_factor': 1}), links=[Link(href=AnyUrl('https://csdap-staging.ds.io/api/v1/stapi/orders/aefb49ae-0277-405f-acb3-7be023ba92aa'), rel='self', type='application/geo+json', title=None, method=None, headers=None, body=None), Link(href=AnyUrl('https://csdap-staging.ds.io/api/v1/stapi/orders/aefb49ae-0277-405f-acb3-7be023ba92aa/statuses'), rel='monitor', type='application/json', title=None, method=None, headers=None, body=None)])"
      ]
     },
     "execution_count": 16,
     "metadata": {},
     "output_type": "execute_result"
    }
   ],
   "source": [
    "order_parameters = OrderParameters.model_validate({\n",
    "    \"proposal_id\": tasking_proposal.id,\n",
    "    \"product_ids\": [products[\"CSI\"].id],\n",
    "    \"task_name\": \"My tasking proposal\"\n",
    "})\n",
    "order_payload = OrderPayload(\n",
    "    datetime=(\n",
    "        datetime.datetime.now(tz=datetime.timezone.utc) + datetime.timedelta(days=1),\n",
    "        datetime.datetime.now(tz=datetime.timezone.utc) + datetime.timedelta(days=7),\n",
    "    ),\n",
    "    geometry=Point(type=\"Point\", coordinates=Position2D(-105.1019, 40.1672)),\n",
    "    order_parameters=order_parameters,\n",
    ")\n",
    "order = client.create_tasking_request(\"umbra-sar\", order_payload)\n",
    "order"
   ]
  },
  {
   "cell_type": "markdown",
   "id": "c0dea6d9",
   "metadata": {},
   "source": [
    "After a tasking request is submitted  it will be vetted, first by an automatic system and then by CSDA operations.\n",
    "If it's valid, it will be sent on to the vendor via their specific tasking API.\n",
    "When the tasking request is fulfilled, CSDA will notify the research user."
   ]
  },
  {
   "cell_type": "markdown",
   "id": "62c25080",
   "metadata": {},
   "source": [
    "## Accessing your tasked data\n",
    "\n",
    "TODO"
   ]
  }
 ],
 "metadata": {
  "kernelspec": {
   "display_name": "csda-client",
   "language": "python",
   "name": "python3"
  },
  "language_info": {
   "codemirror_mode": {
    "name": "ipython",
    "version": 3
   },
   "file_extension": ".py",
   "mimetype": "text/x-python",
   "name": "python",
   "nbconvert_exporter": "python",
   "pygments_lexer": "ipython3",
   "version": "3.10.16"
  }
 },
 "nbformat": 4,
 "nbformat_minor": 5
}
